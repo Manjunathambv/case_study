{
 "cells": [
  {
   "cell_type": "code",
   "execution_count": 1,
   "id": "f4e404b0",
   "metadata": {},
   "outputs": [],
   "source": [
    "import csv\n",
    "import pandas as pd\n",
    "import numpy as np\n",
    "from matplotlib import pyplot as plt\n",
    "import collections"
   ]
  },
  {
   "cell_type": "markdown",
   "id": "8566b1ec",
   "metadata": {},
   "source": [
    "#### Feature Details :\n",
    "    SNo - Serial number.\n",
    "    Date - Date of funding in format DD/MM/YYYY.\n",
    "    StartupName - Name of the startup which got funded.\n",
    "    IndustryVertical - Industry to which the startup belongs.\n",
    "    SubVertical - Sub-category of the industry type.\n",
    "    CityLocation - City which the startup is based out of.\n",
    "    InvestorsName - Name of the investors involved in the funding round.\n",
    "    InvestmentType - Either Private Equity or Seed Funding.\n",
    "    AmountInUSD - Funding Amount in USD.\n",
    "    Remarks - Other information, if any.\n",
    "    Insights -\n",
    "    Find out what type of startups are getting funded in the last few years?\n",
    "    Who are the important investors?\n",
    "    What are the hot fields that get a lot of funding these days?"
   ]
  },
  {
   "cell_type": "code",
   "execution_count": 2,
   "id": "6f3b99fe",
   "metadata": {},
   "outputs": [
    {
     "data": {
      "text/html": [
       "<div>\n",
       "<style scoped>\n",
       "    .dataframe tbody tr th:only-of-type {\n",
       "        vertical-align: middle;\n",
       "    }\n",
       "\n",
       "    .dataframe tbody tr th {\n",
       "        vertical-align: top;\n",
       "    }\n",
       "\n",
       "    .dataframe thead th {\n",
       "        text-align: right;\n",
       "    }\n",
       "</style>\n",
       "<table border=\"1\" class=\"dataframe\">\n",
       "  <thead>\n",
       "    <tr style=\"text-align: right;\">\n",
       "      <th></th>\n",
       "      <th>SNo</th>\n",
       "      <th>Date</th>\n",
       "      <th>StartupName</th>\n",
       "      <th>IndustryVertical</th>\n",
       "      <th>SubVertical</th>\n",
       "      <th>CityLocation</th>\n",
       "      <th>InvestorsName</th>\n",
       "      <th>InvestmentType</th>\n",
       "      <th>AmountInUSD</th>\n",
       "      <th>Remarks</th>\n",
       "    </tr>\n",
       "  </thead>\n",
       "  <tbody>\n",
       "    <tr>\n",
       "      <th>0</th>\n",
       "      <td>0</td>\n",
       "      <td>01/08/2017</td>\n",
       "      <td>TouchKin</td>\n",
       "      <td>Technology</td>\n",
       "      <td>Predictive Care Platform</td>\n",
       "      <td>Bangalore</td>\n",
       "      <td>Kae Capital</td>\n",
       "      <td>Private Equity</td>\n",
       "      <td>1,300,000</td>\n",
       "      <td>NaN</td>\n",
       "    </tr>\n",
       "    <tr>\n",
       "      <th>1</th>\n",
       "      <td>1</td>\n",
       "      <td>02/08/2017</td>\n",
       "      <td>Ethinos</td>\n",
       "      <td>Technology</td>\n",
       "      <td>Digital Marketing Agency</td>\n",
       "      <td>Mumbai</td>\n",
       "      <td>Triton Investment Advisors</td>\n",
       "      <td>Private Equity</td>\n",
       "      <td>NaN</td>\n",
       "      <td>NaN</td>\n",
       "    </tr>\n",
       "    <tr>\n",
       "      <th>2</th>\n",
       "      <td>2</td>\n",
       "      <td>02/08/2017</td>\n",
       "      <td>Leverage Edu</td>\n",
       "      <td>Consumer Internet</td>\n",
       "      <td>Online platform for Higher Education Services</td>\n",
       "      <td>New Delhi</td>\n",
       "      <td>Kashyap Deorah, Anand Sankeshwar, Deepak Jain,...</td>\n",
       "      <td>Seed Funding</td>\n",
       "      <td>NaN</td>\n",
       "      <td>NaN</td>\n",
       "    </tr>\n",
       "    <tr>\n",
       "      <th>3</th>\n",
       "      <td>3</td>\n",
       "      <td>02/08/2017</td>\n",
       "      <td>Zepo</td>\n",
       "      <td>Consumer Internet</td>\n",
       "      <td>DIY Ecommerce platform</td>\n",
       "      <td>Mumbai</td>\n",
       "      <td>Kunal Shah, LetsVenture, Anupam Mittal, Hetal ...</td>\n",
       "      <td>Seed Funding</td>\n",
       "      <td>500,000</td>\n",
       "      <td>NaN</td>\n",
       "    </tr>\n",
       "    <tr>\n",
       "      <th>4</th>\n",
       "      <td>4</td>\n",
       "      <td>02/08/2017</td>\n",
       "      <td>Click2Clinic</td>\n",
       "      <td>Consumer Internet</td>\n",
       "      <td>healthcare service aggregator</td>\n",
       "      <td>Hyderabad</td>\n",
       "      <td>Narottam Thudi, Shireesh Palle</td>\n",
       "      <td>Seed Funding</td>\n",
       "      <td>850,000</td>\n",
       "      <td>NaN</td>\n",
       "    </tr>\n",
       "  </tbody>\n",
       "</table>\n",
       "</div>"
      ],
      "text/plain": [
       "   SNo        Date   StartupName   IndustryVertical  \\\n",
       "0    0  01/08/2017      TouchKin         Technology   \n",
       "1    1  02/08/2017       Ethinos         Technology   \n",
       "2    2  02/08/2017  Leverage Edu  Consumer Internet   \n",
       "3    3  02/08/2017          Zepo  Consumer Internet   \n",
       "4    4  02/08/2017  Click2Clinic  Consumer Internet   \n",
       "\n",
       "                                     SubVertical CityLocation  \\\n",
       "0                       Predictive Care Platform    Bangalore   \n",
       "1                       Digital Marketing Agency       Mumbai   \n",
       "2  Online platform for Higher Education Services    New Delhi   \n",
       "3                         DIY Ecommerce platform       Mumbai   \n",
       "4                  healthcare service aggregator    Hyderabad   \n",
       "\n",
       "                                       InvestorsName  InvestmentType  \\\n",
       "0                                        Kae Capital  Private Equity   \n",
       "1                         Triton Investment Advisors  Private Equity   \n",
       "2  Kashyap Deorah, Anand Sankeshwar, Deepak Jain,...    Seed Funding   \n",
       "3  Kunal Shah, LetsVenture, Anupam Mittal, Hetal ...    Seed Funding   \n",
       "4                     Narottam Thudi, Shireesh Palle    Seed Funding   \n",
       "\n",
       "  AmountInUSD Remarks  \n",
       "0   1,300,000     NaN  \n",
       "1         NaN     NaN  \n",
       "2         NaN     NaN  \n",
       "3     500,000     NaN  \n",
       "4     850,000     NaN  "
      ]
     },
     "execution_count": 2,
     "metadata": {},
     "output_type": "execute_result"
    }
   ],
   "source": [
    "with open(\"./startup_funding.csv\", \"r\", encoding=\"utf8\") as file_object:\n",
    "    csv_data = csv.DictReader(file_object, skipinitialspace = True)\n",
    "    csv_data = list(csv_data)\n",
    "\n",
    "column_name = [\"SNo\", \"Date\", \"StartupName\", \"IndustryVertical\", \"SubVertical\", \"CityLocation\", \"InvestorsName\",\n",
    "               \"InvestmentType\", \"AmountInUSD\", \"Remarks\"]\n",
    "\n",
    "df_data = pd.read_csv(\"./startup_funding.csv\")\n",
    "# df_data.columns = column_name\n",
    "# df_data.head()\n",
    "# df_data.to_csv(\"./startup_funding_updated.csv\", index=False)\n",
    "df_data.head()"
   ]
  },
  {
   "cell_type": "code",
   "execution_count": 3,
   "id": "e710ad1f",
   "metadata": {},
   "outputs": [
    {
     "data": {
      "text/plain": [
       "{'SNo': '0',\n",
       " 'Date': '01/08/2017',\n",
       " 'StartupName': 'TouchKin',\n",
       " 'IndustryVertical': 'Technology',\n",
       " 'SubVertical': 'Predictive Care Platform',\n",
       " 'CityLocation': 'Bangalore',\n",
       " 'InvestorsName': 'Kae Capital',\n",
       " 'InvestmentType': 'Private Equity',\n",
       " 'AmountInUSD': '1,300,000',\n",
       " 'Remarks': ''}"
      ]
     },
     "execution_count": 3,
     "metadata": {},
     "output_type": "execute_result"
    }
   ],
   "source": [
    "csv_data[0]"
   ]
  },
  {
   "cell_type": "code",
   "execution_count": 4,
   "id": "219dbacf",
   "metadata": {},
   "outputs": [
    {
     "data": {
      "image/png": "[encoded data removed]",
      "text/plain": [
       "<Figure size 432x288 with 1 Axes>"
      ]
     },
     "metadata": {
      "needs_background": "light"
     },
     "output_type": "display_data"
    },
    {
     "name": "stdout",
     "output_type": "stream",
     "text": [
      "2015 936\n",
      "2016 993\n",
      "2017 443\n"
     ]
    }
   ],
   "source": [
    "\"\"\"\n",
    "Problem Statement :\n",
    "Check the trend of investments over the years. To check the trend, find -\n",
    "Total number of fundings done in each year.\n",
    "Plot a line graph between year and number of fundings. Take year on x-axis and number of fundings on y-axis.\n",
    "Print year-wise total number of fundings also. Print years in ascending order.\n",
    "Note :\n",
    "There is some error in the 'Date' feature. Make sure to handle that.\n",
    "Output Format :\n",
    "year1 TotalFunding1\n",
    "year2 TotalFunding2\n",
    ". . . \n",
    "\"\"\"\n",
    "data = {}\n",
    "for row in csv_data:\n",
    "    m = row[\"Date\"]\n",
    "    \n",
    "    m = m.replace(\".\", \"/\")\n",
    "    if \"//\" in m:\n",
    "        m = m.replace(\"/\", \"\")\n",
    "        \n",
    "    if len(m.split(\"/\")[-1]) != 4:\n",
    "        m = \"2\" + m.split(\"/\")[-1]\n",
    "    \n",
    "    row[\"Date\"] = row[\"Date\"].replace(\".\", \"/\") \n",
    "    \n",
    "    year = m[-4:]\n",
    "    if year in data:\n",
    "        data[year] += 1\n",
    "    else:\n",
    "        data[year] = 1\n",
    "        \n",
    "ord_dct = collections.OrderedDict(sorted(data.items()))                                  \n",
    "plt.plot(list(ord_dct.keys()),list(ord_dct.values()))\n",
    "plt.xlabel(\"Year\")\n",
    "plt.ylabel(\"Number of Fundings\")\n",
    "plt.title('Year VS \"Number of Fundings\"')\n",
    "plt.grid()\n",
    "plt.show()\n",
    "\n",
    "for i in ord_dct.keys():\n",
    "    print(i,end=\" \")\n",
    "    print(ord_dct[i])"
   ]
  },
  {
   "cell_type": "code",
   "execution_count": 5,
   "id": "9b734459",
   "metadata": {},
   "outputs": [
    {
     "data": {
      "image/png": "[encoded data removed]",
      "text/plain": [
       "<Figure size 432x288 with 1 Axes>"
      ]
     },
     "metadata": {},
     "output_type": "display_data"
    },
    {
     "name": "stdout",
     "output_type": "stream",
     "text": [
      "Bangalore 635\n",
      "Mumbai 449\n",
      "New Delhi 389\n",
      "Gurgaon 241\n",
      "Pune 91\n",
      "Noida 79\n",
      "Hyderabad 77\n",
      "Chennai 67\n",
      "Ahmedabad 35\n",
      "Jaipur 25\n"
     ]
    }
   ],
   "source": [
    "\"\"\"\n",
    "Problem Statement :\n",
    "Find out which cities are generally chosen for starting a startup.\n",
    "Find top 10 Indian cities which have most number of startups ?\n",
    "Plot a pie chart and visualise it.\n",
    "Print the city name and number of startups in that city also.\n",
    "Note :\n",
    "Take city name \"Delhi\" as \"New Delhi\".\n",
    "Check the case-sensitiveness of cities also. That means - at some place, instead of \"Bangalore\", \"bangalore\" is given. Take city name as \"Bangalore\".\n",
    "For few startups multiple locations are given, one Indian and one Foreign. Count those startups in Indian startup also. Indian city name is first.\n",
    "Print the city in descending order with respect to the number of startups.\n",
    "Output Format :\n",
    "city1 number1\n",
    "city2 number2\n",
    ". . . \n",
    "\"\"\"\n",
    "\n",
    "df = df_data\n",
    "#df['CityLocation'].dropna(inplace=True)\n",
    "df.dropna(subset=[\"CityLocation\"],inplace=True)\n",
    "#df.tail()\n",
    "def separateCity(city): \n",
    "    return city.split('/')[0].strip() \n",
    "df['CityLocation']=df['CityLocation'].apply(separateCity) \n",
    "df[df['CityLocation']=='bangalore'] = 'Bangalore'\n",
    "df[df['CityLocation']=='Delhi'] = 'New Delhi'\n",
    "\n",
    "city = df['CityLocation']\n",
    "city = city.value_counts()[:10]\n",
    "city_name = city.index\n",
    "no_of_str = city.values\n",
    "\n",
    "plt.pie(no_of_str, labels=city_name, autopct='%.2f%%',counterclock=False)\n",
    "plt.title('Number of startup in city')\n",
    "plt.axis(\"equal\")\n",
    "plt.show()\n",
    "\n",
    "for i in range(city_name.shape[0]):\n",
    "    print(city_name[i],no_of_str[i])"
   ]
  },
  {
   "cell_type": "code",
   "execution_count": 6,
   "id": "22249545",
   "metadata": {},
   "outputs": [
    {
     "name": "stdout",
     "output_type": "stream",
     "text": [
      "['1,000,000', '500,000', '2,000,000', '100,000', '3,000,000', '5,000,000', '10,000,000', '150,000', '200,000', '15,000,000', '250,000', '6,000,000', '300,000', '4,000,000', '1,500,000', '600,000', '400,000', '1,200,000', '450,000', '20,000,000', '350,000', '2,500,000', '25,000,000', '30,000,000', '50,000,000', '100,000,000', '750,000', '650,000', '3,500,000', '7,000,000', '8,000,000', '50,000', '700,000', '12,000,000', '4,500,000', '7,500,000', '16,000,000', '40,000', '35,000,000', '40,000,000', '2,200,000', '11,000,000', '900,000', '1,100,000', '160,000', '1,400,000', '60,000,000', '147,000', '375,000', '180,000', '1,800,000', '1,300,000', '1,600,000', 'New Delhi', '2,400,000', '9,000,000', '5,500,000', '22,500', '550,000', '800,000', '13,500,000', '1,350,000', '30,000', '21,000,000', '18,000,000', '310,000', '3,100,000', '6,500,000', '55,000,000', '5,300,000', '440,000', '75,000,000', '2,300,000', '12,500,000', '2,250,000', '1,700,000', '77,000', '7,700,000', '1,250,000', '120,000', '630,000', '125,000', '155,000', '448,000', '27,000,000', '4,400,000', '23,000,000', '45,000', '315,000', '13,000,000', '220,000', '8,200,000', '145,000', '770,000', '540,000', '2,700,000', '200,000,000', '470,000', '500,000,000', '11,100,000', '445,000', '70,000', '1,400,000,000', '6,600,000', '150,000,000', '225,000', '320,000', '330,000', '6,700,000', '297,000', '4,600,000', '175,000', '230,000', '5,200,000', '5,800,000', '3,600,000', '16,500,000', '3,200,000', '75,000', '595,000', '4,200,000', '12,300,000', '240,000', '80,000', '168,000', '245,000', '275,000', '165,000', '4,100,000', '325,000', '89,000', '8,800,000', '21,500,000', '90,000,000', '34,000,000', '7,600,000', '3,800,000', '137,000,000', '680,000,000', '825,000', '1,530,000', '209,000', '971,000', '1,750,000', '376,000', '12,750,000', '19,000,000', '475,000', '370,000', '1,580,000', '36,000,000', '1,150,000', '38,700,000', '311,000', '31,000,000', '490,000', '52,000', '7,800,000', '37,000,000', '149,000', '625,000', '233,000', '225,000,000', '31,300,000', '162,000', '395,000', '3,750,000', '20,000', '464,000', '51,000,000', '3,300,000', '515,000', 'Bangalore', '227,000', '270,000', '963,000', '580,000', '68,000', '2,600,000', '27,000', '640,000', '3,350,000', '73,700,000', '108,000', '6,100,000', '18,000', '776,000', '4,850,000', '260,000,000', '390,000', '16,200,000', '12,250,000', '5,600,000', '890,000', '45,000,000', '14,900,000', '620,000', '15,600,000', '4,250,000', '305,000', '6,300,000', '443,000', '1,900,000', '70,000,000', '63,000,000', '24,000,000', '145,000,000', '106,000', '330,000,000', '1,050,000', '250,000,000', '740,000', '120,000,000', '130,000', '7,400,000', '8,600,000', '9,600,000', '850,000', '52,000,000', '123,000', '104,500,000', '745,000', '22,400,000', '37,000', '2,750,000', '1,450,000', '260,000', '82,000,000', '425,000', '22,500,000', '298,000', '441,000', '81,000', '3,700,000', '57,000,000', '218,000', '785,000', '4,700,000', '10,200,000', '175,000,000', '9,500,000', '460,000', '1,950,000', '205,000', '104,000', '7,200,000', '190,000', '3,650,000', '2,100,000', '8,900,000', '410,000', '110,000', '324,000', '366,000', '3,690,000', '85,000,000', '191,000', '37,500,000', '185,000', '3,670,000', '28,000,000', '466,000', '13,400,000', '140,000', '4,650,000', '180,000,000', '685,000', '700,000,000', '19,350,000', '382,000', '18,500,000', '1,790,000', '5,150,000', '94,000', '5,400,000', '148,000', '7,000,0000', '235,000', '234,000', '368,000', '670,000', '9,200,000', '73,000', '2,950,000', '295,000', '303,000', '62,000,000', '232,000', '790,000', '455,000', '17,000,000', '8,500,000', '675,000', '15,200,000', '19,500,000', '970,000', '25,000', '16,600,000', '215,000', '530,000', '80,000,000', '400,000,000', '385,000', '1,070,000', '223,608', '56,000,000', '161,000', '156,000', '71,000,000', '520,000', '360,000', '90,000', '32,000,000', '210,000']\n"
     ]
    }
   ],
   "source": [
    "print(df_data[\"AmountInUSD\"].value_counts().keys().tolist())"
   ]
  },
  {
   "cell_type": "code",
   "execution_count": 7,
   "id": "c105572b",
   "metadata": {},
   "outputs": [
    {
     "data": {
      "image/png": "[encoded data removed]",
      "text/plain": [
       "<Figure size 432x288 with 1 Axes>"
      ]
     },
     "metadata": {},
     "output_type": "display_data"
    },
    {
     "name": "stdout",
     "output_type": "stream",
     "text": [
      "Bangalore 49.73%\n",
      "New 16.67%\n",
      "Mumbai 13.92%\n",
      "Gurgaon 12.23%\n",
      "Chennai 2.43%\n",
      "Pune 2.08%\n",
      "Hyderabad 1.15%\n",
      "Noida 1.01%\n",
      "Ahmedabad 0.58%\n",
      "Jaipur 0.21%\n"
     ]
    }
   ],
   "source": [
    "\"\"\"\n",
    "Problem Statement :\n",
    "Find out if cities play any role in receiving funding.\n",
    "Find top 10 Indian cities with most amount of fundings received. Find out percentage of funding each city has got (among top 10 Indian cities only).\n",
    "Print the city and percentage with 2 decimal place after rounding off.\n",
    "Note:\n",
    "Take city name \"Delhi\" as \"New Delhi\".\n",
    "Check the case-sensitiveness of cities also. That means - at some place, instead of \"Bangalore\", \"bangalore\" is given. Take city name as \"Bangalore\".\n",
    "For few startups multiple locations are given, one Indian and one Foreign. Count those startups in Indian startup also. Indian city name is first.\n",
    "Print the city in descending order with respect to the percentage of funding.\n",
    "Output Format :\n",
    "city1 percent1\n",
    "city2 percent2\n",
    "city3 percent3\n",
    ". . . \n",
    ". . .\n",
    ". . .\n",
    "\"\"\"\n",
    "data = dict()\n",
    "for row in csv_data:\n",
    "    key = (row[\"CityLocation\"].split(\" \")[0].strip())\n",
    "    value = row[\"AmountInUSD\"].strip()\n",
    "    value = value.replace(\"\\\\\\\\xc2\\\\\\\\xa02\", \"\")\n",
    "    value = value.replace(\"\\\\\\\\xc2\\\\\\\\xa0\", \"\")\n",
    "    value = value.replace('N/A', \"\")\n",
    "    if value == \"undisclosed\" or value == 'unknown' or value == 'Undisclosed' or value == '14,342,000+' or value == \"\":\n",
    "        value = \"0.0\"\n",
    "    value = float(value.replace(\",\", \"\"))\n",
    "    if key != \"\":\n",
    "        if key == \"Delhi\":\n",
    "            key = 'New Delhi'\n",
    "        elif key == \"bangalore\":\n",
    "            key = \"Bangalore\"\n",
    "        if key in data:\n",
    "            data[key] += value\n",
    "        else:\n",
    "            data[key] = value\n",
    "        \n",
    "data = sorted(data.items(), key = lambda x: x[1], reverse=True)[0:10]\n",
    "data = dict(data)\n",
    "plt.pie(list(data.values()), labels= list(data.keys()), autopct=\"%.2f\", counterclock=False)\n",
    "plt.axis(\"equal\")\n",
    "plt.show()\n",
    "\n",
    "total_sum = sum(data.values())\n",
    "for key, val in data.items():\n",
    "    print(key, \"{:.2f}%\".format(val/total_sum * 100))"
   ]
  },
  {
   "cell_type": "code",
   "execution_count": 15,
   "id": "1069ae7d",
   "metadata": {},
   "outputs": [
    {
     "data": {
      "image/png": "[encoded data removed]",
      "text/plain": [
       "<Figure size 432x288 with 1 Axes>"
      ]
     },
     "metadata": {},
     "output_type": "display_data"
    },
    {
     "name": "stdout",
     "output_type": "stream",
     "text": [
      "Private Equity 98.21\n",
      "Seed Funding 1.75\n",
      "Debt Funding 0.05\n",
      "Bangalore 0.00\n",
      "New Delhi 0.00\n"
     ]
    }
   ],
   "source": [
    "\"\"\"\n",
    "Problem Statement :\n",
    "There are 4 different type of investments. Find out percentage of amount funded for each investment type.\n",
    "Plot a pie chart to visualise.\n",
    "Print the investment type and percentage of amount funded with 2 decimal places after rounding off.\n",
    "Note :\n",
    "Correct spelling of investment types are - \"Private Equity\", \"Seed Funding\", \"Debt Funding\", \n",
    "and \"Crowd Funding\". Keep an eye for any spelling mistake. You can find this by printing unique values from this column.\n",
    "Print the investment type in descending order with respect to the percentage of the amount funded.\n",
    "Output Format :\n",
    "investmentType1 percent1\n",
    "investmentType2 percent2\n",
    "investmentType3 percent3\n",
    ". . . \n",
    "\"\"\"\n",
    "\n",
    "df=df_data\n",
    "df[\"AmountInUSD\"] = df[\"AmountInUSD\"].replace(\"Bangalore\", \"0.0\")\n",
    "df[\"AmountInUSD\"] = df[\"AmountInUSD\"].replace(\"New Delhi\", \"0.0\")\n",
    "df['InvestmentType'].replace('SeedFunding','Seed Funding',inplace = True)\n",
    "df['InvestmentType'].replace('PrivateEquity','Private Equity',inplace = True)\n",
    "df['InvestmentType'].replace('DebtFunding','Debt Funding',inplace = True)\n",
    "df['InvestmentType'].replace('Crowd funding','Crowd Funding',inplace = True)\n",
    "\n",
    "df['AmountInUSD'] = df['AmountInUSD'].apply(lambda x: float(str(x).replace(\",\",\"\")))\n",
    "df = df.groupby('InvestmentType')['AmountInUSD'].sum()\n",
    "df = df.sort_values(ascending = False)[:10]\n",
    "investment = df.index\n",
    "amount = df.values\n",
    "\n",
    "plt.pie(amount,labels = investment,autopct='%0.2f',counterclock=False,startangle=110)\n",
    "plt.show()\n",
    "\n",
    "percent = np.true_divide(amount,amount.sum())*100\n",
    "for i in range(len(investment)):\n",
    "    print(investment[i],format(percent[i],'0.2f'))\n",
    "\n"
   ]
  },
  {
   "cell_type": "code",
   "execution_count": 17,
   "id": "90d20936",
   "metadata": {},
   "outputs": [
    {
     "data": {
      "image/png": "[encoded data removed]",
      "text/plain": [
       "<Figure size 432x288 with 1 Axes>"
      ]
     },
     "metadata": {},
     "output_type": "display_data"
    },
    {
     "name": "stdout",
     "output_type": "stream",
     "text": [
      "Ecommerce 40.53\n",
      "Consumer Internet 35.95\n",
      "Technology 10.45\n",
      "Online Marketplace 6.63\n",
      "E-Commerce & M-Commerce platform 6.44\n"
     ]
    }
   ],
   "source": [
    "\"\"\"\n",
    "Problem Statement :\n",
    "Which type of companies got more easily funding. To answer this question, find -\n",
    "Top 5 industries and percentage of the total amount funded to that industry. (among top 5 only)\n",
    "Print the industry name and percentage of the amount funded with 2 decimal place after rounding off.\n",
    "Note :\n",
    "Ecommerce is the right word in IndustryVertical, so correct it.\n",
    "Print the industry in descending order with respect to the percentage of the amount funded.\n",
    "Output Format :\n",
    "industry1 percent1\n",
    "industry2 percent2\n",
    "industry3 percent3\n",
    ". . . \n",
    "\"\"\"\n",
    "df = df_data\n",
    "df['IndustryVertical'].replace('ECommerce','Ecommerce',inplace = True)\n",
    "df['IndustryVertical'].replace('eCommerce','Ecommerce',inplace = True)\n",
    "df['IndustryVertical'].replace('ecommerce','Ecommerce',inplace = True)\n",
    "df['AmountInUSD'] = df['AmountInUSD'].apply(lambda x: float(str(x).replace(\",\",\"\")))\n",
    "df = df.groupby('IndustryVertical')['AmountInUSD'].sum()\n",
    "df = df.sort_values(ascending = False)[:5]\n",
    "industry = df.index\n",
    "amount = df.values\n",
    "\n",
    "plt.pie(amount,labels = industry,autopct='%0.2f',counterclock=False,startangle=100)\n",
    "plt.show()\n",
    "percent = np.true_divide(amount,amount.sum())*100\n",
    "for i in range(len(industry)):\n",
    "    print(industry[i],format(percent[i],'0.2f'))"
   ]
  },
  {
   "cell_type": "code",
   "execution_count": 18,
   "id": "66e8aa12",
   "metadata": {},
   "outputs": [
    {
     "name": "stdout",
     "output_type": "stream",
     "text": [
      "Paytm\n",
      "Flipkart\n",
      "Ola\n",
      "Snapdeal\n",
      "Oyo\n"
     ]
    }
   ],
   "source": [
    "\"\"\"\n",
    "Problem Statement :\n",
    "Find top 5 startups with most amount of total funding.\n",
    "Print the startup name in descending order with respect to amount of funding.\n",
    "Note:\n",
    "Ola, Flipkart, Oyo, Paytm are important startups, so correct their names. There are many errors in startup names, \n",
    "ignore correcting all, just handle important ones.\n",
    "Output Format :\n",
    "startup1\n",
    "startup2\n",
    "startup3\n",
    ". . . \n",
    "\"\"\"\n",
    "\n",
    "df = df_data\n",
    "df['StartupName'].replace('Oyorooms','Oyo',inplace = True)\n",
    "df['StartupName'].replace('OyoRooms','Oyo',inplace = True)\n",
    "df['StartupName'].replace('Oyo Rooms','Oyo',inplace = True)\n",
    "df['StartupName'].replace('OYO Rooms','Oyo',inplace = True)\n",
    "df['StartupName'].replace('Olacabs','Ola',inplace = True)\n",
    "df['StartupName'].replace('Ola Cabs','Ola',inplace = True)\n",
    "df['StartupName'].replace('Olacabs','Ola',inplace = True)\n",
    "df['StartupName'].replace('Flipkart.com','Flipkart',inplace = True)\n",
    "df['StartupName'].replace('Paytm Marketplace','Paytm',inplace = True)\n",
    "\n",
    "df['AmountInUSD'] = df['AmountInUSD'].apply(lambda x: float(str(x).replace(\",\",\"\")))\n",
    "df = df.groupby('StartupName')['AmountInUSD'].sum()\n",
    "df = df.sort_values(ascending = False)[:5]\n",
    "startup = df.index\n",
    "for i in range(5):\n",
    "    print(startup[i])"
   ]
  },
  {
   "cell_type": "code",
   "execution_count": 19,
   "id": "9eaa55e4",
   "metadata": {},
   "outputs": [
    {
     "name": "stdout",
     "output_type": "stream",
     "text": [
      "Ola 9\n",
      "Swiggy 7\n",
      "UrbanClap 6\n",
      "Medinfi 5\n",
      "Jugnoo 5\n"
     ]
    }
   ],
   "source": [
    "\"\"\"\n",
    "Problem Statement :\n",
    "Find the top 5 startups who received the most number of funding rounds. That means, \n",
    "startups which got fundings maximum number of times.\n",
    "Print the startup name in descending order with respect to the number of funding round as integer value.\n",
    "Note:\n",
    "Ola, Flipkart, Oyo, Paytm are important startups, so correct their names. There are \n",
    "many errors in startup names, ignore correcting all, just handle important ones.\n",
    "Output Format :\n",
    "startup1 number1\n",
    "startup2 number2\n",
    "startup3 number3\n",
    ". . . \n",
    "\"\"\"\n",
    "df = df_data\n",
    "df['StartupName'].replace('Oyorooms','Oyo',inplace = True)\n",
    "df['StartupName'].replace('OyoRooms','Oyo',inplace = True)\n",
    "df['StartupName'].replace('Oyo Rooms','Oyo',inplace = True)\n",
    "df['StartupName'].replace('OYO Rooms','Oyo',inplace = True)\n",
    "df['StartupName'].replace('Olacabs','Ola',inplace = True)\n",
    "df['StartupName'].replace('Ola Cabs','Ola',inplace = True)\n",
    "df['StartupName'].replace('Olacabs','Ola',inplace = True)\n",
    "df['StartupName'].replace('Flipkart.com','Flipkart',inplace = True)\n",
    "df['StartupName'].replace('Paytm Marketplace','Paytm',inplace = True)\n",
    "\n",
    "totalfunding = df['StartupName'].value_counts()[:5]\n",
    "startupname = totalfunding.index\n",
    "count = totalfunding.values\n",
    "for i in range(5):\n",
    "    print(startupname[i],count[i])"
   ]
  },
  {
   "cell_type": "code",
   "execution_count": 26,
   "id": "250bf086",
   "metadata": {},
   "outputs": [
    {
     "name": "stdout",
     "output_type": "stream",
     "text": [
      "('Sequoia Capital', 54)\n"
     ]
    }
   ],
   "source": [
    "\"\"\"\n",
    "Problem 8 : Top Investor\n",
    "Problem Statement :\n",
    "Find the Investors who have invested maximum number of times.\n",
    "Print the investor name and number of times invested as integer value.\n",
    "Note:\n",
    "In startup, multiple investors might have invested. So consider each investor for that startup. \n",
    "Ignore the undisclosed investors.\n",
    "\"\"\"\n",
    "\n",
    "df.InvestorsName.fillna(\"\",inplace = True)\n",
    "investors = df.InvestorsName\n",
    "\n",
    "investors_name = []\n",
    "for i in investors:\n",
    "    if i != \"\":\n",
    "        temp = i.split(\",\")\n",
    "        for j in temp:\n",
    "            investors_name.append(j.strip())\n",
    "dct = {}\n",
    "for i in investors_name:\n",
    "    dct[i] = dct.get(i,0) + 1\n",
    "\n",
    "ans = sorted(dct.items(), key = lambda x:x[1], reverse = True)[0]\n",
    "print(ans)"
   ]
  },
  {
   "cell_type": "code",
   "execution_count": null,
   "id": "284ad007",
   "metadata": {},
   "outputs": [],
   "source": []
  }
 ],
 "metadata": {
  "kernelspec": {
   "display_name": "Python 3",
   "language": "python",
   "name": "python3"
  },
  "language_info": {
   "codemirror_mode": {
    "name": "ipython",
    "version": 3
   },
   "file_extension": ".py",
   "mimetype": "text/x-python",
   "name": "python",
   "nbconvert_exporter": "python",
   "pygments_lexer": "ipython3",
   "version": "3.8.8"
  }
 },
 "nbformat": 4,
 "nbformat_minor": 5
}
